{
 "cells": [
  {
   "cell_type": "raw",
   "id": "10b790a2-6460-4f39-bb0f-b74c1db19ea6",
   "metadata": {},
   "source": [
    "ANOVA를 한번에 계산할 수 있는 방법"
   ]
  },
  {
   "cell_type": "code",
   "execution_count": null,
   "id": "2f7c8855-4bcd-40fe-bd4d-138d0c7be596",
   "metadata": {},
   "outputs": [],
   "source": [
    "# df = 데이터프레임, target = 타겟, enum_count = 범주형으로 판단할 최대 개수\n",
    "def all_ANOVA(df, target, enum_count):\n",
    "    result = {}\n",
    "    for col_name in df.columns:\n",
    "        if col_name == target:\n",
    "            continue\n",
    "        vc = df[col_name].value_counts()\n",
    "        vc = vc.reset_index()\n",
    "        if len(vc) >= enum_count:\n",
    "            continue\n",
    "        p=[]\n",
    "        for i in range(len(vc)):\n",
    "            val = vc.loc[i, col_name]\n",
    "            p.append(df.loc[df[col_name]==val, target])\n",
    "        result_oneway = spst.f_oneway(*p)\n",
    "        result[col_name] = result_oneway\n",
    "    return result\n",
    "\n",
    "# Data Frame 내에 모든 ANOVA를 확인하는 임시 함수\n",
    "t = all_ANOVA(data, 'Sales', 10)\n",
    "for _ in t.items():\n",
    "    print(_)"
   ]
  }
 ],
 "metadata": {
  "kernelspec": {
   "display_name": "Python 3 (ipykernel)",
   "language": "python",
   "name": "python3"
  },
  "language_info": {
   "codemirror_mode": {
    "name": "ipython",
    "version": 3
   },
   "file_extension": ".py",
   "mimetype": "text/x-python",
   "name": "python",
   "nbconvert_exporter": "python",
   "pygments_lexer": "ipython3",
   "version": "3.12.4"
  }
 },
 "nbformat": 4,
 "nbformat_minor": 5
}
