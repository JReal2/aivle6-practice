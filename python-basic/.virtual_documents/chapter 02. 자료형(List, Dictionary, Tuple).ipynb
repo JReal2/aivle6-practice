











# 리스트 생성하기
list_a = [ 1, 2, 3, 4, 5 ]
list_b = ['a','b','c','d','e']

# 전체 조회
print(list_a)
print(list_b)








# 1부터 11까지, 2씩 증가하는 값으로 리스트 생성
range(1, 12, 2)


list(range(1, 12, 2))





list_d = [1, 2, 3]
list_e = [list_d, 4, 5]
print(list_e)








list_a = list(range(50, 0, -4))

print(list_a)








a = [23, 3, 16, 45, 11]
print(a[0], a[3])
print(a[-1], a[-3])





a = [23, 3, 16, 45, 11]

print(a[0:3])
# 또는
print(a[:3])


print(a[2:5])
print(a[2:])
print(a[-3:])








hangeul = ['가', '나', '다', '라', '마', '바', '사']





print("'" + hangeul[3] + "'")
print(hangeul[:3])
print(hangeul[-2:])








a = [23, 3, 16, 45, 11]

a.append(99)
print(a)


a = [23, 3, 16, 45, 11]

a = a + [99]
print(a)





a = [23, 3, 16, 45, 11]

b = a.index(3)
a[b] = 34
print(a)





a = [23, 3, 16, 45, 11]

del a[2]
print(a)





a = [23, 3, 16, 45, 11]

a.remove(45)
print(a)








list1 = [1,3,5,7]
list2 = [2,4,8]

list2.append(list1[1])
list2





del list2[2]

list2





list2[1] *= 10

list2


sum(list2)








dict_a = { 'v1' : 32,
           'l1' : [1, 2, 3],
           'd1' : {'a' : 1, 'b' : 2} }
print(dict_a)





dict_a.keys()


dict_a.values()


dict_a.items()





dict_a = { 'v1': 32, 'l1': [1,2,3], 'd1': {'a':1, 'b':2}}

print( dict_a['v1'])
print('=' * 30)

print( dict_a['l1'])
print( dict_a['l1'][:2])
print('=' * 30)

print( dict_a['d1'])
print( dict_a['d1']['a'])





dict_a = { 'v1': 32, 'l1': [1,2,3], 'd1': {'a':1, 'b':2}}


# 추가
dict_a['v2'] = 500
print(dict_a)


# 수정
dict_a['v2'] = 300
print(dict_a)


# 삭제
del dict_a['v2']
print(dict_a)








member = {'name':['한기영'],
         'age':[49],
         'gender':['m']}

member





member['name'].append('이정렬')
member['age'].append(26)
member['gender'].append('m')

member





print(member['age'])
print(member['age'][0])





# 리스트로 부터 값 할당
a = [23, 3, 16]

a1, a2, a3 = a
print(a1, a2, a3)


# 딕셔너리로 부터 값 할당
dict_a = { 'v1': 32, 'l1': [1,2,3], 'd1': {'a':1, 'b':2}}

# 각 값을 할당
a1, a2, a3 = dict_a.values()
print(a1, a2, a3)





# 소괄호로 선언
t = (4,7)
t


# 조회는 인덱스로
print(t[0])
print(t[1])








list_a = list(range(0, 101, 5))

print(list_a)
print(len(list_a))





index = list_a.index(40)

del list_a[index]

list_a





list_a[-3:]





products = {
            'name':['바나나킥','짱구','초코파이'],
            'price':[2000, 3000, 4500]
            }

products





products['manufacturer'] = ['농심','삼양','오리온']

products





for i in list(products.values()):
    print(i[1])

print(products['name'][1], products['price'][1], products['manufacturer'][1])
