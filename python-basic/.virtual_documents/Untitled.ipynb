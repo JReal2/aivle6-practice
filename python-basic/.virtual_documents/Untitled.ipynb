


import pandas as pd


# 데이터 읽어오기
path = 'https://raw.githubusercontent.com/DA4BAM/dataset/master/Attrition_simple2.CSV'
data = pd.read_csv(path)  

# 상위 5개 확인
data.head(5)


# &로 다중 조건 조회
data.loc[(data['Gender'] == 'Male') & (data['Age'] > 30)]


# loc 중첩
data.loc[data['Gender'] == 'Male'].loc[data['Age'] > 30]
