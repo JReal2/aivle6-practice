





# 'a' 와 'A' 가 같은가?
print(('a' == 'A'))

# 'a' 와 'A' 가 같지 않은가?
print(('a' != 'A'))


# 'a' 와 'A' 가 같거나, 10과 10.0 이 같은지 비교
print(('a' == 'A') or (10 == 10.0))


# 20과 20.0이 같고, '123'이 '일이삼'과 같은지 비교
print((20 == 20.0) and ('123' == '일이삼'))








score = 100
if (score >= 90):
    print('pass')





score = 50
if (score >= 90):
    print('pass')
else :
    print('fail')





score = 50
if score >= 90:
    print('A')
elif score >= 80 :
    print('B')
else :
    print('C')








math, korean, history = 80, 100, 60

if min(math, korean, history) >= 70:
    print("pass")
else:
    print("fail")





if math >= 70 & korean >= 70 & history >= 70 & ((math + korean + history) / 3 > 75):
    print("pass")
else:
    print("fail")

# if min(math, korean, history) >= 70 and (math + korean + history) / 3 > 75:
#     print("pass")
# else:
#     print("fail")

# import statistics

# if min(math, korean, history) >= 70 and statistics.mean([math, korean, history]) > 75:
#     print("pass")
# else:
#     print("fail")














for i in range(5) :
    print(i)


for i in [0,1,2,3,4] :
    print(i)


# 1부터 100까지 자연수를 모두 더하기
total = 0
for i in range(100) :
    total += i + 1

print(total)






import random

n = 7
for i in range(n) :
    rdnum = random.randint(0, 45)  # 0~100 사이 정수 중 랜덤으로 추출
    print(rdnum + 1)








# sum(range(1, 101, 2))

# odds = 0

# for i in range(1, 101, 2):
#     odds += i

# print(odds)

odds = 0

for i in range(1, 101):
    if(i % 2 == 1):
        odds += i

print(odds)





for i in range(1, 6):
    if i % 2 == 1:
        print("#" * i)
    else:
        print("*" * i)
    # print('#' * i if i % 2 == 1 else '*' * i)











# 0에서 5까지 1씩 증가시켜가면서 값을 출력
i = 0

while i <= 5 :
    print(i)
    i += 1





while True :
    a = input('암호를 입력하시오.')
    if a == 'pass' :
        print('Welcome~!')
        break








odds, i = 0, 1

while i <= 100:
    if i % 2 == 1:
        odds += i
    i += 1
    
print(odds)








# for i in range(-2, -11, -1):
#     print(i)

i = -2

while i > -11:
    print(i)
    i -= 1





age = 26

if age < 10:
    print("10세 미만")
elif age < 20:
    print("10대")
elif age < 30:
    print("20대")
elif age < 40:
    print("30대")
elif age < 50:
    print("40대")
else:
    print("50세 이상")





# sum(range(0, 500, 12))

total = 0

# for i in range(1, 501):
#     if i % 12 == 0:
#         total += i

i = 0

while i <= 500:
    total += i
    i += 12
    
print(total)





fibonaci, n, i = [1, 1], 9, 2

while len(fibonaci) < 9:
    fibonaci.append(fibonaci[i-1] + fibonaci[i-2])
    i += 1

print(fibonaci)





list_a = []

for i in range(4, 101):
    for j in range(2, i):
        if i % j == 0:
            list_a.append(i)
            break;

print(list_a)
