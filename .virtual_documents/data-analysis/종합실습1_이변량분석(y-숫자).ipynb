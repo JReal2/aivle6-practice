














import pandas as pd
import numpy as np

import matplotlib.pyplot as plt
import seaborn as sns

import scipy.stats as spst








path = 'https://raw.githubusercontent.com/DA4BAM/dataset/master/Carseats2.csv'
data = pd.read_csv(path)
data.head()


target = 'Sales'














var = 'Advertising'

sns.scatterplot(x=var, y = target, data = data)
plt.show()


sns.regplot(x=var, y = target, data = data)
plt.show()


sns.jointplot(x=var, y = target, data = data)
plt.show()





result = spst.pearsonr(data[var], data[target])
print(f'상관계수 : {result[0]}, p-value : {result[1]}')











temp = data.loc[data['Advertising'] > 0]
sns.scatterplot(x=var, y = target, data = temp)
plt.show()


result = spst.pearsonr(temp[var], temp[target])
print(f'상관계수 : {result[0]}, p-value : {result[1]}')


def visualize(x, y, data):
    sns.regplot(x = x, y = y, data = data)
    sns.jointplot(x = x, y = y, data = data)

    plt.show()








visualize('Population', 'Sales', data)





spst.pearsonr(data['Population'], data['Sales'])














visualize('Price', 'Sales', data)





spst.pearsonr(data['Price'], data['Sales'])














visualize('Age', 'Sales', data)





spst.pearsonr(data['Age'], data['Sales'])





시각화 결과를 통해서는 큰 상관관계를 확인하기 어려웠습니다. 나이대의 분포가 고르다는 것을 볼 수 있었습니다.

수치화 결과를 통해서는 -0.5보다 크고 -0.2보다 약간 작은 상관계수를 통해 중약 정도의 음의 상관관계를 갖고 있다고 해석할 수 있습니다.








visualize('CompPrice', 'Sales', data)





spst.pearsonr(data['CompPrice'], data['Sales'])














visualize('Income', 'Sales', data)





spst.pearsonr(data['Income'], data['Sales'])




















var = 'ShelveLoc'

sns.barplot(x=var, y=target, data = data)
plt.show()





d_b = data.loc[data[var]=='Bad', target]
d_m = data.loc[data[var]=='Medium', target]
d_g = data.loc[data[var]=='Good', target]

spst.f_oneway(d_b, d_m, d_g)





































































