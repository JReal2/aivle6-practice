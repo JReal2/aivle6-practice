











import pandas as pd
import numpy as np
import matplotlib.pyplot as plt
import seaborn as sns





# 타이타닉 데이터
titanic = pd.read_csv('https://raw.githubusercontent.com/DA4BAM/dataset/master/titanic.0.csv')
titanic.head()


# 뉴욕시 공기 오염도 데이터
air = pd.read_csv('https://raw.githubusercontent.com/DA4BAM/dataset/master/air2.csv')
air['Date'] = pd.to_datetime(air['Date'])
air.head()




















plt.scatter(air['Temp'], air['Ozone'])
plt.show()


plt.scatter('Temp', 'Ozone', data = air)
plt.show()


sns.scatterplot(x='Temp', y='Ozone', data = air)
plt.show()














plt.figure(figsize = (10, 3))
plt.subplot(1, 2, 1)
plt.scatter('Wind', 'Ozone', data = air)

plt.subplot(1, 2, 2)
plt.scatter('Solar.R', 'Ozone', data = air)

plt.tight_layout()
plt.show()


plt.scatter('Solar.R', 'Ozone', data = air)

















sns.pairplot(air)
plt.show()








sns.jointplot(x='Temp', y='Ozone', data = air)
plt.show()





sns.jointplot(x='Wind', y='Ozone', data = air)
plt.show()





sns.jointplot(x='Solar.R', y='Ozone', data = air)
plt.show()


sns.regplot(x='Solar.R', y='Ozone', data = air)
plt.show()











import scipy.stats as spst


# 상관계수와 p-value 
spst.pearsonr(air['Temp'], air['Ozone'])








# 데이터프레임으로 부터 수치형 데이터에 대한 상관계수 구하기
air.corr()








plt.figure(figsize = (8, 8))
sns.heatmap(air.corr(), 
            annot = True,            # 숫자(상관계수) 표기 여부
            fmt = '.3f',             # 숫자 포멧 : 소수점 3자리까지 표기
            cmap = 'RdYlBu_r',       # 칼라맵
            vmin = -1, vmax = 1)     # 값의 최소, 최대값
plt.show()














spst.pearsonr(air['Temp'], air['Ozone'])





spst.pearsonr(air['Wind'], air['Ozone'])





# 잘못된 방식
spst.pearsonr(air['Solar.R'].notnull(), air['Ozone'])


temp = air.loc[air['Solar.R'].notna()]

spst.pearsonr(temp['Solar.R'], temp['Ozone'])











import pandas as pd
import numpy as np
import matplotlib.pyplot as plt
import seaborn as sns

import scipy.stats as spst


# 보스톤 집값 데이터
boston = pd.read_csv('https://raw.githubusercontent.com/DA4BAM/dataset/master/boston.csv')
boston.head()





spst.pearsonr(boston['crim'], boston['medv'])


sns.scatterplot(x = 'crim', y = 'medv', data = boston)








spst.pearsonr(boston['tax'], boston['medv'])


sns.scatterplot(x = 'tax', y = 'medv', data = boston)








spst.pearsonr(boston['lstat'], boston['medv'])


sns.scatterplot(x = 'lstat', y = 'medv', data = boston)








spst.pearsonr(boston['ptratio'], boston['medv'])


sns.scatterplot(x = 'ptratio', y = 'medv', data = boston)








boston.corr()


plt.figure(figsize = (10, 10))
sns.heatmap(boston.corr(), annot = True)


plt.subplot(2,1,1)
sns.regplot(x = 'tax', y = 'rad', data = boston)

plt.subplot(2,1,2)
sns.regplot(x = 'chas', y = 'rad', data = boston)

plt.tight_layout()



