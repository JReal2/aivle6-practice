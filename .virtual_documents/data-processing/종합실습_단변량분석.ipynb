

















import numpy as np
import pandas as pd

import matplotlib.pyplot as plt
import seaborn as sns








path = 'https://raw.githubusercontent.com/DA4BAM/dataset/master/Carseats2.csv'
data = pd.read_csv(path)
data.head()








def eda_1_num(data, var, bins = 30):
    # 기초통계량
    print('<< 기초통계량 >>')
    display(data[[var]].describe().T)
    print('=' * 100)

    # 시각화
    print('<< 그래프 >>')
    plt.figure(figsize = (10,6))

    plt.subplot(2,1,1)
    sns.histplot(data[var], bins = bins, kde = True)
    plt.grid()

    plt.subplot(2,1,2)
    sns.boxplot(x = data[var])
    plt.grid()
    plt.show()





var = 'Sales'











eda_1_num(data, var)

















var = 'CompPrice'











eda_1_num(data, var)

















var = 'Income'











eda_1_num(data, var)





































































































sns.kdeplot(x = 'CompPrice', data = data)
sns.kdeplot(x = 'Price', data = data)

plt.grid()
plt.show()






































def eda_1_cat(data, var) :
    t1 = data[var].value_counts()
    t2 = data[var].value_counts(normalize = True)
    t3 = pd.concat([t1, t2], axis = 1)
    t3.columns = ['count','ratio']
    display(t3)
    sns.countplot(x = var, data = data)
    plt.show()
    





var = 'ShelveLoc'











eda_1_cat(data, var)








































































