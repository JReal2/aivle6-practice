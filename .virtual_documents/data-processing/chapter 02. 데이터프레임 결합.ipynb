








import pandas as pd
import numpy as np
import matplotlib.pyplot as plt
import seaborn as sns





sales = pd.read_csv("https://raw.githubusercontent.com/DA4BAM/dataset/master/ts_sales_simple.csv")

print(sales)

sales1 = sales.loc[sales['Store_ID']==1]
sales2 = sales.loc[sales['Store_ID']==2]
sales5 = sales.loc[sales['Store_ID']==5]
sales11 = sales.loc[sales['Store_ID']==11]

products = pd.read_csv("https://raw.githubusercontent.com/DA4BAM/dataset/master/ts_product_master.csv")
stores = pd.read_csv("https://raw.githubusercontent.com/DA4BAM/dataset/master/ts_store_master.csv")


sales1.head()


products.head()


stores.head()








df1 = pd.DataFrame({'A':[10,25], 'B':[15,30]})
df2 = pd.DataFrame({'A':[20,30, 50], 'C':[35,30, 40]})
df2.drop([1], inplace = True)

display(df1)
display(df2)








pd.concat([df1, df2], axis = 0, join = 'inner')





pd.concat([df1, df2], axis = 0, join = 'outer')








pd.concat([df1, df2], axis = 1, join = 'inner')





pd.concat([df1, df2], axis = 1, join = 'outer')








temp = pd.concat([sales1, sales2, sales5, sales11], axis = 0, join = 'inner')

display(temp)





sales1 = sales1.groupby(['Date', 'Store_ID'])['Qty'].agg(Total_Qty = 'sum')
sales2 = sales2.groupby(['Date', 'Store_ID'])['Qty'].agg(Total_Qty = 'sum')
sales5 = sales5.groupby(['Date', 'Store_ID'])['Qty'].agg(Total_Qty = 'sum')
sales11 = sales11.groupby(['Date', 'Store_ID'])['Qty'].agg(Total_Qty = 'sum')

temp = pd.concat([sales1, sales2, sales5, sales11], axis = 0, join = 'inner')

display(temp)











df1 = pd.DataFrame({'A':[1,2], 'B':[15,30], 'C':[20, 25]})
df2 = pd.DataFrame({'A':[2,3], 'D':[20, 35]})

display(df1)
display(df2)





pd.merge(df1, df2, how = 'inner', on = 'A')


pd.merge(df1, df2, how = 'inner')





pd.merge(df1, df2, how = 'left')





pd.merge(df1, df2, how = 'right')








sales1 = sales1.groupby(['Date', 'Store_ID'])['Qty'].agg(Total_Qty = 'sum')
sales2 = sales2.groupby(['Date', 'Store_ID'])['Qty'].agg(Total_Qty = 'sum')
sales5 = sales5.groupby(['Date', 'Store_ID'])['Qty'].agg(Total_Qty = 'sum')
sales11 = sales11.groupby(['Date', 'Store_ID'])['Qty'].agg(Total_Qty = 'sum')


display(sales1)
display(products)
display(stores)





tmp = pd.merge(sales1, products, how = 'left', on = 'Product_ID')
tmp = tmp.groupby(['Date', 'Category'], as_index = False)[['Qty']].sum()

display(tmp)





tmp = pd.merge(sales, stores, how = 'left', on = 'Store_ID')
tmp = tmp.groupby(['City'], as_index = False)[['Qty']].sum()

display(tmp)








# 1) 매장1의 일별 카테고리별 판매량을 집계

temp = pd.merge(sales1, products)
temp2 = temp.groupby(['Date', 'Category'], as_index = False)['Qty'].sum()
temp2


# 2) pivot
temp3 = temp2.pivot(index = 'Category', columns = 'Date', values = 'Qty')
temp3


# sns.heatmap으로 시각화 할 수도 있습니다!

plt.figure(figsize = (20, 6))
sns.heatmap(temp3)
plt.show()





# 라이브러리 불러오기
import pandas as pd


sales = pd.read_csv("https://raw.githubusercontent.com/DA4BAM/dataset/master/ts_sales_simple.csv")
products = pd.read_csv("https://raw.githubusercontent.com/DA4BAM/dataset/master/ts_product_master.csv")
stores = pd.read_csv("https://raw.githubusercontent.com/DA4BAM/dataset/master/ts_store_master.csv")







































