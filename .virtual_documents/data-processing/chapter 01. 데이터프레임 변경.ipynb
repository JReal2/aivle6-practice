





# 라이브러리 불러오기
import pandas as pd
import numpy as np








# 데이터 읽어오기
path = 'https://raw.githubusercontent.com/DA4BAM/dataset/master/Attrition_simple2.CSV'
data = pd.read_csv(path)  

# 상위 5개 확인
data.head(5)











# rename() 함수로 열 이름 변경
data.rename(columns={'DistanceFromHome' : 'Distance', 
                    'EmployeeNumber' : 'EmpNo',
                    'JobSatisfaction' : 'JobSat',
                    'MonthlyIncome' : 'M_Income',
                    'PercentSalaryHike' : 'PctSalHike',
                    'TotalWorkingYears' : 'TotWY'}, inplace=True)

# 확인
data.head()





# 모든 열 이름 변경
data.columns = ['Attr','Age','Dist','EmpNo','Gen','JobSat','Marital','M_Income', 'OT', 'PctSalHike', 'TotWY']

# 확인
data.head()





# final_amt 열 추가
data['Income_LY'] = data['M_Income'] / (1+data['PctSalHike']/100 )
data['Income_LY'] = round(data['Income_LY'])
# 확인
data.head()











data['JobSat'].value_counts()





data['JobSat2'] = np.where(data['JobSat'].isin([1,2]), 'unsat', 'sat')
data.head(10)





data['Diff_Income'] = data['M_Income'] - data['Income_LY']


data.head(10)





# data를 복사합니다.
data2 = data.copy()





# 열 하나 삭제
data2.drop('Income_LY', axis=1, inplace=True)

# 확인
data2.head()





# 열 두 개 삭제
data2.drop(['JobSat2','Diff_Income'], axis=1, inplace=True)

# 확인
data2.head()








data2.drop(['Gen', 'PctSalHike', 'TotWY'], axis = 1, inplace = True)
data2.head(10)


data2.head(10)





# data를 복사합니다.
data2 = data.copy()
data2.head()





# Income_LY의 값을 모두 0로 변경해 봅시다.
data2['Income_LY'] = 0
data2.head()





# Diff_Income 의 값이 1000보다 작은 경우, 0로 변경해 봅시다.
data2.loc[data2['Diff_Income'] < 1000, 'Diff_Income' ] = 0
data2.head()





# Age가 40보다 많으면 1, 아니면 0으로 바꿔 봅시다.
data2['Age'] = np.where(data2['Age'] > 40, 1, 0)
data2.head()


# income이 10000보다 크면 전부 10000으로 바꾸자

data2.loc[data2['M_Income'] > 10000, 'M_Income'] = 10000
data2.head(10)





# data를 복사합니다.
data2 = data.copy()
data2.head()





# Male -> 1, Female -> 0
data['Gen'] = data['Gen'].map({'Male': 1, 'Female': 0})

# 확인
data.head()





data2['Age'].describe()





#  3 등분으로 분할
age_group = pd.cut(data2['Age'], 3)
age_group.value_counts()





#  3 등분으로 분할후 a,b,c로 이름 붙이기기
age_group = pd.cut(data2['Age'], 3, labels = ['a','b','c'])
age_group.value_counts()





# 나이를 다음 구간으로 분할합니다.
# 'young'  : =< 40 
# 'junior' : 40 <   =< 50
# 'senior' : 50 < 

age_group = pd.cut(data2['Age'], bins =[0, 40, 50, np.inf] , labels = ['young','junior','senior'])
age_group.value_counts()








# 진행하기 전 value_counts() 메소드 사용 습관화

data2['Marital'].value_counts()


data2['Marital'] = data2['Marital'].map({'Single' : 0, 'Married' : 1, 'Divorce' : 2})
data2.head()





psh = pd.cut(data2['PctSalHike'], bins = [0, 13, 18, np.inf], labels = ['low', 'medium', 'high'])
psh


data2['PctSalHike'] = psh
data2.head()








# 라이브러리 불러오기
import pandas as pd
import numpy as np








# 파일 읽어오기
path = 'https://bit.ly/TitanicFile'
data = pd.read_csv(path)

data.head()





# 상위 5개 확인
data.head()





# 4-1) PassengerId, Name, Ticket, Cabin 열 삭제


# 4-2) 열 이름 변경: Sex --> Male


# 4-3) Male 열 값 변경: male --> 1, female --> 0


# 4-4) Family = SibSp + Parch


# 4-5) SibSp, Parch 열 삭제


# 4-6) 확인













