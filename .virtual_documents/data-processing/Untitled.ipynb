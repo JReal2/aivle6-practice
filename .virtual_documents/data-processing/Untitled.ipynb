import pandas as pd





data = {
'Date': ['2024-01-01', '2024-01-01', '2024-01-02', '2024-01-02', '2024-01-03'],
'Store': ['A', 'B', 'A', 'B', 'A'],
'Product': ['X', 'X', 'Y', 'Y', 'X'],
'Region': ['North', 'South', 'North', 'South', 'North'],
'Sales': [200, 300, 250, 350, 400]
}

df = pd.DataFrame(data)

display(df)

pivot = pd.pivot_table(df,
values='Sales',
index=['Date', 'Store'],
columns=['Product', 'Region'],
aggfunc='sum',
fill_value=0)

display(pivot)
