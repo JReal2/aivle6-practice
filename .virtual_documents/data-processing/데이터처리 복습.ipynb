








import pandas as pd
import numpy as np
import matplotlib.pyplot as plt





sales = pd.read_csv("https://raw.githubusercontent.com/DA4BAM/dataset/master/sales.csv")
products = pd.read_csv("https://raw.githubusercontent.com/DA4BAM/dataset/master/products.csv")
# products.drop('CategoryOrd', axis =1, inplace = True)
customers = pd.read_csv("https://raw.githubusercontent.com/DA4BAM/dataset/master/customers2.csv")


sales.head()


products.head()


customers.head()





# 1. 구매액(Amt)이 10000원 이상인 판매정보를 조회하시오.
# sales.loc[행 조건  , 열 이름]
# sales.loc[행 조건]
sales.loc[sales['Amt'] >= 10000]


# 2. 2016년 2월 판매 정보를 조회하시오.
# 조건 두개 이상 연결 &(and), |(or), 주의사항 : 조건 각각을 ()로 묶어야한다.
pd.to_datetime(sales['OrderDate'])
sales.loc[(sales['OrderDate'] >= '2016-02-01') & (sales['OrderDate'] <= '2016-02-29')]


# 🤔3. 2번 문제를 .between()을 사용해서 조회해보세요.
sales.loc[sales['OrderDate'].between('2016-02-01', '2016-02-29')]





# 4. 상품들 중에서 하위 카테고리(SubCategory)가 사탕류, 과자, 빵 인 상품을 조회하시오. (.isin 사용)
products.loc[products['SubCategory'].isin(['사탕류', '과자', '빵'])]








# 1. Sales의 날짜 데이터를 날짜 형식으로 변환하시오.
# pd.to_datetime(date, format = '%d/%m/%Y') # format = '%d/%m/%Y' 입력되는 날짜가 이런 형태야~~ 라고 알려주는 옵션
# 날짜 타입으로 변환하면, 날짜 요소를 추출 할 수 있다.

sales['OrderDate'] = pd.to_datetime(sales['OrderDate'])

sales.dtypes





# 2. sales 데이터프레임에 연도 변수를 추가하시오.
# 날짜형식의 변수.dt.  <==날짜 요소가 팝업으로...

sales['OrderYear'] = sales['OrderDate'].dt.year

display(sales)


# 3. sales 데이터프레임에 월 변수를 추가하시오.

sales['OrderMonth'] = sales['OrderDate'].dt.month

display(sales)


# 4. customers 데이터프레임의 RegisterDate를 날짜타입으로 변환하시오.
customers['RegisterDate'] = pd.to_datetime(customers['RegisterDate'])

customers.dtypes


import datetime


# 5. customers 데이터프레임에 다음 두 변수를 추가하시오.
# 등록연도 RegisterYear
# 등록기간(등록연도부터 현재까지의 년 수)

customers['RegisterYear'] = customers['RegisterDate'].dt.year
customers['RegisterDays'] = ((datetime.datetime.now() - customers['RegisterDate']).dt.days / 365).astype(int)

display(customers)


# 6. customers 데이터프레임에 나이를 계산해서 변수를 추가하시오.




# 7. customers 데이터프레임에서 나이로 부터 연령대를 추가하시오. pd.cut
# 숫자형 변수를 범주로 변환해주기.












# 1.Category 별 상품 수를 조회하시오.(.value_counts())



# 2. 출생 연도별 회원수(.value_counts())



# 3. 2016년 월별, 매출액과 총 판매수량(sum)을 조회. (.groupby)









# 🤔1. sales와 products를 productid 기준으로 merge하여 새로운 데이터프레임으로 저장합니다.
product_by_sales = pd.merge(sales, products, on = 'ProductID')

product_by_sales


# 🤔2. Category 별 총 매출액(Amt)
product_by_sales.groupby(['Category'])[['Amt']].sum()


# 🤔3. Category 별 총 판매량(qty)
product_by_sales.groupby(['Category'])[['Qty']].sum()


# 🤔4. 전체에서 가장 매출이 높은 상품명 10개 조회
amt = product_by_sales.groupby(['ProductName'])[['Amt']].sum().sort_values(by = 'Amt', ascending = False)
# amt = amt.sort_values(by = 'Amt', ascending = False)

amt.head(10)








# 🤔1. 위 실습 4-2,3번의 결과를 각각 dataframe으로 저장하시오.
tmp1 = product_by_sales.groupby(['Category'])[['Amt']].sum()
tmp2 = product_by_sales.groupby(['Category'])[['Qty']].sum()

display(tmp1)
display(tmp2)





# 🤔2. 옆으로 붙이기 concat(, axis = 1)
pd.concat([tmp1, tmp2], axis = 1)


# 🤔3. 2016년 1월 판매데이터를 저장하시오.
tmp3 = sales.loc[sales['OrderDate'].between('2016-01-01', '2016-01-31')]

# 2017년 1월 판매데이터를 저장하시오.
tmp4 = sales.loc[sales['OrderDate'].between('2017-01-01', '2017-01-31')]

# 두 데이터를 위/아래로 붙이시오.
pd.concat([tmp3, tmp4], axis = 0)








# !는 프롬프트 명령어를 실행한다고 명시
!pip install pykrx


from pykrx import stock
import datetime

# 오늘 날짜 가져오기
today = datetime.datetime.now()

# 1년 전 날짜 계산
one_year_ago = today - datetime.timedelta(days=365)

# 주가 데이터 다운로드 및 간단한 처리
stock = stock.get_market_ohlcv_by_date(one_year_ago.strftime('%Y%m%d'), today.strftime('%Y%m%d'), "030200")
stock.reset_index(inplace = True)
stock = stock[['날짜', '종가', '거래량']]
stock.columns = ['Date', 'Close', 'Volume']
stock.head()


# 🤔1. 전날, 전전날 주가 변수를 추가하시오. (.shift)
stock['Close_LD'] = stock['Close'].shift()
stock['Close_LD2'] = stock['Close'].shift(2)

stock.head()


# 🤔2. 전전날 대비 전날 주가 증감 변수 추가 (.diff)
stock['diff_LD2'] = stock['Close'].diff(2)

stock.head()


# 🤔3. 2번 변수가 + 이면 1, 아니면 0 (np.where)
stock['Rise'] = np.where(stock['diff_LD2'] > 0, 1, 0)

stock.head()


# 🤔4. 3일 이동평균 주가 변수를 추가하시오.(rolling().mean())
stock['RA3'] = stock['Close'].rolling(3).mean()

stock.head()
